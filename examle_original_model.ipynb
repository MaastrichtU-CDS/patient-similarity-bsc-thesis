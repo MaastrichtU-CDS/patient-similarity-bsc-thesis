{
 "cells": [
  {
   "cell_type": "markdown",
   "id": "820249fa-8d1d-470f-91ec-94a4c61f746c",
   "metadata": {},
   "source": [
    "# How to execute the original prediction model"
   ]
  },
  {
   "cell_type": "markdown",
   "id": "aff4755b-ed51-4a86-874d-2810a458e55f",
   "metadata": {},
   "source": [
    "The code below will load a module called \"ModelEngine\". This model will read the prediciton model description, including methods how to execute the prediction model.\n",
    "The URL `https://raw.githubusercontent.com/MaastrichtU-CDS/FAIRmodels/main/models/radiotherapy/stiphout_2011.ttl` provides computer-readable information regarding the prediction model and it's execution."
   ]
  },
  {
   "cell_type": "code",
   "execution_count": 2,
   "id": "41b365d9-7abf-4cd7-8c60-da7621ab256d",
   "metadata": {
    "tags": []
   },
   "outputs": [],
   "source": [
    "from mcl.app.ModelEngine import ModelEngine\n",
    "\n",
    "mEngine = ModelEngine(\"https://fairmodels.org/models/radiotherapy/stiphout_2011.ttl\", libraryLocation=\"mcl/app\")\n",
    "modelExecutor = mEngine.getModelExecutor()"
   ]
  },
  {
   "cell_type": "markdown",
   "id": "de00dff5-b91f-44bb-9434-9a2fded5b46e",
   "metadata": {},
   "source": [
    "Now we have loaded the model executor, we can check the features which are expected for this prediction model."
   ]
  },
  {
   "cell_type": "code",
   "execution_count": 3,
   "id": "3b967b55-3ce1-4740-8a5f-cf5d4b762c69",
   "metadata": {
    "tags": []
   },
   "outputs": [
    {
     "name": "stdout",
     "output_type": "stream",
     "text": [
      "{\n",
      "    \"https://fairmodels.org/models/radiotherapy/stiphout_2011.ttl#InputFeature_TLength\": {\n",
      "        \"featureName\": \"tLength\",\n",
      "        \"beta\": -0.085\n",
      "    },\n",
      "    \"https://fairmodels.org/models/radiotherapy/stiphout_2011.ttl#InputFeature_cTStage\": {\n",
      "        \"featureName\": \"cT\",\n",
      "        \"beta\": -0.074\n",
      "    },\n",
      "    \"https://fairmodels.org/models/radiotherapy/stiphout_2011.ttl#InputFeature_cNStage\": {\n",
      "        \"featureName\": \"cN\",\n",
      "        \"beta\": -0.06\n",
      "    }\n",
      "}\n"
     ]
    }
   ],
   "source": [
    "import json\n",
    "model_parameters = modelExecutor.getModelParameters()\n",
    "print(json.dumps(model_parameters, indent=4))"
   ]
  },
  {
   "cell_type": "markdown",
   "id": "af9bae81-12a2-437e-a034-6a9d5443a474",
   "metadata": {},
   "source": [
    "Finally, we can use the model parameter identifiers and the actual values for a given patient, to make a prediction.\n",
    "You can play with the numbers (for tLength, cT, cN) to get different predictions."
   ]
  },
  {
   "cell_type": "code",
   "execution_count": null,
   "id": "e9bddcba-fcaa-4b6d-aebb-2c7628c7be19",
   "metadata": {
    "tags": []
   },
   "outputs": [],
   "source": [
    "prediction = modelExecutor.executeModel({\n",
    "    \"https://fairmodels.org/models/radiotherapy/stiphout_2011.ttl#InputFeature_TLength\": 3,\n",
    "    \"https://fairmodels.org/models/radiotherapy/stiphout_2011.ttl#InputFeature_cTStage\": 3,\n",
    "    \"https://fairmodels.org/models/radiotherapy/stiphout_2011.ttl#InputFeature_cNStage\": 0\n",
    "})\n",
    "print(f\"Probability: {prediction}\")"
   ]
  },
  {
   "cell_type": "markdown",
   "id": "213a79f7-9f8a-4a90-b896-44c69310d418",
   "metadata": {},
   "source": [
    "## Predictions on DataFrame\n",
    "**This one is optional to use**\n",
    "\n",
    "Finally, there is also a function to perform prediction calculation on multiple patients. Here we need the \"featureName\" as described above as column names in a Pandas DataFrame.\n",
    "For this example, we first create the DataFrame called `inputData`, whereafter we will execute the model on all patients in the DataFrame."
   ]
  },
  {
   "cell_type": "code",
   "execution_count": null,
   "id": "abb2d5d6-88d1-4abe-9cf4-c1865515465f",
   "metadata": {
    "tags": []
   },
   "outputs": [],
   "source": [
    "import pandas as pd\n",
    "inputData = pd.DataFrame(data={\n",
    "    \"identifier\": [1001, 1002, 1003, 1004],\n",
    "    \"cT\": [3, 2, 3, 4],\n",
    "    \"cN\": [1, 0, 2, 1],\n",
    "    \"tLength\": [15, 4, 7, 10] \n",
    "})\n",
    "inputData"
   ]
  },
  {
   "cell_type": "markdown",
   "id": "ba6cc1d6-5537-4857-ab57-e2f794291515",
   "metadata": {},
   "source": [
    "After creation of the input data, we can now execute the model on the created DataFrame and read the resulting DataFrame. Here the column `probability` is added, which holds the prediciton for **this specific row**."
   ]
  },
  {
   "cell_type": "code",
   "execution_count": null,
   "id": "89b722c5-36db-40ed-8ba2-ea1924dcd830",
   "metadata": {
    "tags": []
   },
   "outputs": [],
   "source": [
    "output_data = modelExecutor.executeModelOnDataFrame(inputData)\n",
    "output_data"
   ]
  }
 ],
 "metadata": {
  "kernelspec": {
   "display_name": "Python 3 (ipykernel)",
   "language": "python",
   "name": "python3"
  },
  "language_info": {
   "codemirror_mode": {
    "name": "ipython",
    "version": 3
   },
   "file_extension": ".py",
   "mimetype": "text/x-python",
   "name": "python",
   "nbconvert_exporter": "python",
   "pygments_lexer": "ipython3",
   "version": "3.10.11"
  }
 },
 "nbformat": 4,
 "nbformat_minor": 5
}
